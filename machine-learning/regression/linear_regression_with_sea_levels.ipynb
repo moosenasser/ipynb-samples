{
  "nbformat": 4,
  "nbformat_minor": 0,
  "metadata": {
    "colab": {
      "name": "linear_regression_with_sea_levels.ipynb",
      "provenance": [],
      "collapsed_sections": [],
      "include_colab_link": true
    },
    "kernelspec": {
      "name": "python3",
      "display_name": "Python 3"
    },
    "accelerator": "GPU"
  },
  "cells": [
    {
      "cell_type": "markdown",
      "metadata": {
        "id": "view-in-github",
        "colab_type": "text"
      },
      "source": [
        "<a href=\"https://colab.research.google.com/github/moosenasser/ipynb-samples/blob/main/machine-learning/regression/linear_regression_with_sea_levels.ipynb\" target=\"_parent\"><img src=\"https://colab.research.google.com/assets/colab-badge.svg\" alt=\"Open In Colab\"/></a>"
      ]
    },
    {
      "cell_type": "markdown",
      "metadata": {
        "id": "XeCllzC77-P5"
      },
      "source": [
        "*Note: You are currently reading this using Google Colaboratory which is a cloud-hosted version of Jupyter Notebook. This is a document containng both text cells for documentation and runnable code cells. If you are unfamiliar with Jupyter Notebook, watch this 3-minute introduction before starting this challenge: https://www.youtube.com/watch?v=inN8seMm7UI*\n",
        "\n",
        "\n",
        "\n",
        "---\n",
        "\n",
        "\n",
        "\n",
        "The goal of this notebook is predicting sea level. Scikit-learn 0.24.2 is utilized to create a linear regression model for accomplishing this task."
      ]
    },
    {
      "cell_type": "code",
      "metadata": {
        "id": "la_Oz6oLlub6"
      },
      "source": [
        "from sklearn.linear_model import LinearRegression\n",
        "from sklearn.model_selection import cross_val_score\n",
        "from sklearn.pipeline import make_pipeline\n",
        "\n",
        "import pandas as pd"
      ],
      "execution_count": 1,
      "outputs": []
    },
    {
      "cell_type": "code",
      "metadata": {
        "id": "7YrU1jEWI46t"
      },
      "source": [
        "sea_lvl = 'CSIRO Adjusted Sea Level'\n",
        "sea_lvl_csv_path = '/content/sample_data/epa-sea-level.csv'"
      ],
      "execution_count": 2,
      "outputs": []
    },
    {
      "cell_type": "code",
      "metadata": {
        "id": "jaF8r6aOl48C"
      },
      "source": [
        "df = pd.read_csv(sea_lvl_csv_path)"
      ],
      "execution_count": 3,
      "outputs": []
    },
    {
      "cell_type": "code",
      "metadata": {
        "colab": {
          "base_uri": "https://localhost:8080/",
          "height": 203
        },
        "id": "utOEvXBlSJn4",
        "outputId": "fa395da4-8bbc-4d41-f3a5-0065247dc2a4"
      },
      "source": [
        "df.head()"
      ],
      "execution_count": 4,
      "outputs": [
        {
          "output_type": "execute_result",
          "data": {
            "text/html": [
              "<div>\n",
              "<style scoped>\n",
              "    .dataframe tbody tr th:only-of-type {\n",
              "        vertical-align: middle;\n",
              "    }\n",
              "\n",
              "    .dataframe tbody tr th {\n",
              "        vertical-align: top;\n",
              "    }\n",
              "\n",
              "    .dataframe thead th {\n",
              "        text-align: right;\n",
              "    }\n",
              "</style>\n",
              "<table border=\"1\" class=\"dataframe\">\n",
              "  <thead>\n",
              "    <tr style=\"text-align: right;\">\n",
              "      <th></th>\n",
              "      <th>Year</th>\n",
              "      <th>CSIRO Adjusted Sea Level</th>\n",
              "      <th>Lower Error Bound</th>\n",
              "      <th>Upper Error Bound</th>\n",
              "      <th>NOAA Adjusted Sea Level</th>\n",
              "    </tr>\n",
              "  </thead>\n",
              "  <tbody>\n",
              "    <tr>\n",
              "      <th>0</th>\n",
              "      <td>1880</td>\n",
              "      <td>0.000000</td>\n",
              "      <td>-0.952756</td>\n",
              "      <td>0.952756</td>\n",
              "      <td>NaN</td>\n",
              "    </tr>\n",
              "    <tr>\n",
              "      <th>1</th>\n",
              "      <td>1881</td>\n",
              "      <td>0.220472</td>\n",
              "      <td>-0.732283</td>\n",
              "      <td>1.173228</td>\n",
              "      <td>NaN</td>\n",
              "    </tr>\n",
              "    <tr>\n",
              "      <th>2</th>\n",
              "      <td>1882</td>\n",
              "      <td>-0.440945</td>\n",
              "      <td>-1.346457</td>\n",
              "      <td>0.464567</td>\n",
              "      <td>NaN</td>\n",
              "    </tr>\n",
              "    <tr>\n",
              "      <th>3</th>\n",
              "      <td>1883</td>\n",
              "      <td>-0.232283</td>\n",
              "      <td>-1.129921</td>\n",
              "      <td>0.665354</td>\n",
              "      <td>NaN</td>\n",
              "    </tr>\n",
              "    <tr>\n",
              "      <th>4</th>\n",
              "      <td>1884</td>\n",
              "      <td>0.590551</td>\n",
              "      <td>-0.283465</td>\n",
              "      <td>1.464567</td>\n",
              "      <td>NaN</td>\n",
              "    </tr>\n",
              "  </tbody>\n",
              "</table>\n",
              "</div>"
            ],
            "text/plain": [
              "   Year  CSIRO Adjusted Sea Level  ...  Upper Error Bound  NOAA Adjusted Sea Level\n",
              "0  1880                  0.000000  ...           0.952756                      NaN\n",
              "1  1881                  0.220472  ...           1.173228                      NaN\n",
              "2  1882                 -0.440945  ...           0.464567                      NaN\n",
              "3  1883                 -0.232283  ...           0.665354                      NaN\n",
              "4  1884                  0.590551  ...           1.464567                      NaN\n",
              "\n",
              "[5 rows x 5 columns]"
            ]
          },
          "metadata": {},
          "execution_count": 4
        }
      ]
    },
    {
      "cell_type": "code",
      "metadata": {
        "colab": {
          "base_uri": "https://localhost:8080/"
        },
        "id": "dq_nEIQeiA-S",
        "outputId": "cabdef26-12a5-428b-d02b-39400fce12d1"
      },
      "source": [
        "df[sea_lvl].isnull().sum()"
      ],
      "execution_count": 5,
      "outputs": [
        {
          "output_type": "execute_result",
          "data": {
            "text/plain": [
              "0"
            ]
          },
          "metadata": {},
          "execution_count": 5
        }
      ]
    },
    {
      "cell_type": "code",
      "metadata": {
        "id": "1W7B7C5UT16T"
      },
      "source": [
        "''' \"Lower Error Bound\" and \"Upper Error Bound\" columns are excluded because of\n",
        "potential target leakage. '''\n",
        "X = df.Year.values.reshape(-1, 1)\n",
        "\n",
        "''' \"CSIRO Adjusted Sea Level\" is the target variable instead of\n",
        "\"NOAA Adjusted Sea Level\" because the former has no missing values. '''\n",
        "y = df[sea_lvl]"
      ],
      "execution_count": 6,
      "outputs": []
    },
    {
      "cell_type": "code",
      "metadata": {
        "id": "pHQZL4beTN6q"
      },
      "source": [
        "# Use pipeline anyway as best practice despite no preprocessing involved.\n",
        "pipeline = make_pipeline(LinearRegression())"
      ],
      "execution_count": 7,
      "outputs": []
    },
    {
      "cell_type": "code",
      "metadata": {
        "colab": {
          "base_uri": "https://localhost:8080/"
        },
        "id": "IWRVGhaDTYUs",
        "outputId": "f80cd07a-e009-4027-8dee-5900674a3845"
      },
      "source": [
        "# Change sign since sklearn calculates negative MAE.\n",
        "scores = -1 * cross_val_score(pipeline, X, y,\n",
        "                              scoring='neg_mean_absolute_error')\n",
        "\n",
        "print(\"Average MAE score:\", scores.mean())"
      ],
      "execution_count": 8,
      "outputs": [
        {
          "output_type": "stream",
          "text": [
            "Average MAE score: 0.5436109043696911\n"
          ],
          "name": "stdout"
        }
      ]
    }
  ]
}
