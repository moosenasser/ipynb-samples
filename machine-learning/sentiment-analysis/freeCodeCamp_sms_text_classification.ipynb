{
  "nbformat": 4,
  "nbformat_minor": 0,
  "metadata": {
    "colab": {
      "name": "freeCodeCamp_sms_text_classification.ipynb",
      "private_outputs": true,
      "provenance": [],
      "collapsed_sections": [],
      "include_colab_link": true
    },
    "kernelspec": {
      "display_name": "Python 3",
      "name": "python3"
    },
    "accelerator": "GPU"
  },
  "cells": [
    {
      "cell_type": "markdown",
      "metadata": {
        "id": "view-in-github",
        "colab_type": "text"
      },
      "source": [
        "<a href=\"https://colab.research.google.com/github/moosenasser/ipynb-samples/blob/main/freeCodeCamp_sms_text_classification.ipynb\" target=\"_parent\"><img src=\"https://colab.research.google.com/assets/colab-badge.svg\" alt=\"Open In Colab\"/></a>"
      ]
    },
    {
      "cell_type": "markdown",
      "metadata": {
        "id": "Eg62Pmz3o83v"
      },
      "source": [
        "*Note: You are currently reading this using Google Colaboratory which is a cloud-hosted version of Jupyter Notebook. This is a document containing both text cells for documentation and runnable code cells. If you are unfamiliar with Jupyter Notebook, watch this 3-minute introduction before starting this challenge: https://www.youtube.com/watch?v=inN8seMm7UI*\n",
        "\n",
        "---\n",
        "\n",
        "In this challenge, you need to create a machine learning model that will classify SMS messages as either \"ham\" or \"spam\". A \"ham\" message is a normal message sent by a friend. A \"spam\" message is an advertisement or a message sent by a company.\n",
        "\n",
        "You should create a function called `predict_message` that takes a message string as an argument and returns a list. The first element in the list should be a number between zero and one that indicates the likeliness of \"ham\" (0) or \"spam\" (1). The second element in the list should be the word \"ham\" or \"spam\", depending on which is most likely.\n",
        "\n",
        "For this challenge, you will use the [SMS Spam Collection dataset](http://www.dt.fee.unicamp.br/~tiago/smsspamcollection/). The dataset has already been grouped into train data and test data.\n",
        "\n",
        "The first two cells import the libraries and data. The final cell tests your model and function. Add your code in between these cells.\n"
      ]
    },
    {
      "cell_type": "code",
      "metadata": {
        "id": "8RZOuS9LWQvv"
      },
      "source": [
        "import numpy as np\n",
        "import pandas as pd\n",
        "\n",
        "import tensorflow as tf\n",
        "from tensorflow import keras\n",
        "from tensorflow.keras import layers"
      ],
      "execution_count": null,
      "outputs": []
    },
    {
      "cell_type": "code",
      "metadata": {
        "id": "lMHwYXHXCar3"
      },
      "source": [
        "# get data files\n",
        "!wget https://cdn.freecodecamp.org/project-data/sms/train-data.tsv\n",
        "!wget https://cdn.freecodecamp.org/project-data/sms/valid-data.tsv\n",
        "\n",
        "train_file_path = \"train-data.tsv\"\n",
        "test_file_path = \"valid-data.tsv\""
      ],
      "execution_count": null,
      "outputs": []
    },
    {
      "cell_type": "code",
      "metadata": {
        "id": "g_h508FEClxO"
      },
      "source": [
        "BUFFER_SIZE = 10000\n",
        "BATCH_SIZE = 64\n",
        "VOCAB_SIZE = 1000\n",
        "\n",
        "COL_HEADERS = ['type', 'message']"
      ],
      "execution_count": null,
      "outputs": []
    },
    {
      "cell_type": "code",
      "metadata": {
        "id": "zOMKywn4zReN"
      },
      "source": [
        "# Store tsv's in dataframes.\n",
        "raw_train_df = pd.read_csv(train_file_path, sep='\\t', names=COL_HEADERS)\n",
        "raw_validation_df = pd.read_csv(test_file_path, sep='\\t', names=COL_HEADERS)"
      ],
      "execution_count": null,
      "outputs": []
    },
    {
      "cell_type": "code",
      "metadata": {
        "id": "ucWUVedkp1re"
      },
      "source": [
        "# Convert categorical data in \"type\" column to numeric data.\n",
        "raw_train_df['type'] = pd.factorize(raw_train_df['type'])[0]\n",
        "raw_validation_df['type'] = pd.factorize(raw_validation_df['type'])[0]"
      ],
      "execution_count": null,
      "outputs": []
    },
    {
      "cell_type": "code",
      "metadata": {
        "id": "6-jissrFp50L"
      },
      "source": [
        "# Convert each pandas Dataframe to TensorFlow Dataset.\n",
        "\n",
        "train_ds = (\n",
        "    tf.data.Dataset.from_tensor_slices(\n",
        "        (\n",
        "            tf.cast(raw_train_df['message'].values, tf.string),\n",
        "            tf.cast(raw_train_df['type'].values, tf.int32)\n",
        "        )\n",
        "    )\n",
        ")\n",
        "\n",
        "validation_ds = (\n",
        "    tf.data.Dataset.from_tensor_slices(\n",
        "        (\n",
        "            tf.cast(raw_validation_df['message'].values, tf.string),\n",
        "            tf.cast(raw_validation_df['type'].values, tf.int32)\n",
        "        )\n",
        "    )\n",
        ")"
      ],
      "execution_count": null,
      "outputs": []
    },
    {
      "cell_type": "code",
      "metadata": {
        "id": "0nwQsl5Mp8t7"
      },
      "source": [
        "# Shuffle data and create batches.\n",
        "train_ds = train_ds.shuffle(BUFFER_SIZE).batch(BATCH_SIZE).prefetch(tf.data.AUTOTUNE)\n",
        "validation_ds = validation_ds.batch(BATCH_SIZE).prefetch(tf.data.AUTOTUNE)"
      ],
      "execution_count": null,
      "outputs": []
    },
    {
      "cell_type": "code",
      "metadata": {
        "id": "6o0vTZUep9SD"
      },
      "source": [
        "# Create text encoder, and adapt it to training dataset.\n",
        "\n",
        "encoder = layers.experimental.preprocessing.TextVectorization(\n",
        "    max_tokens=VOCAB_SIZE)\n",
        "\n",
        "encoder.adapt(train_ds.map(lambda text, label: text))"
      ],
      "execution_count": null,
      "outputs": []
    },
    {
      "cell_type": "code",
      "metadata": {
        "id": "6zn6cJ2kqAeB"
      },
      "source": [
        "# Create model.\n",
        "model = keras.Sequential([\n",
        "    encoder,\n",
        "    layers.Embedding(\n",
        "        input_dim=len(encoder.get_vocabulary()),\n",
        "        output_dim=64,\n",
        "        # Use masking to handle variable sequence lengths.\n",
        "        mask_zero=True),\n",
        "    layers.Bidirectional(layers.LSTM(64)),\n",
        "    layers.Dense(64, activation='relu'),\n",
        "    layers.Dense(1)\n",
        "])\n",
        "\n",
        "# Compile model.\n",
        "model.compile(loss=keras.losses.BinaryCrossentropy(from_logits=True),\n",
        "              optimizer=keras.optimizers.Adam(1e-4),\n",
        "              metrics=['accuracy'])\n",
        "\n",
        "# Train model.\n",
        "model.fit(train_ds, epochs=10, validation_data=validation_ds,\n",
        "          validation_steps=30)"
      ],
      "execution_count": null,
      "outputs": []
    },
    {
      "cell_type": "code",
      "metadata": {
        "id": "J9tD9yACG6M9"
      },
      "source": [
        "# function to predict messages based on model\n",
        "# (should return list containing prediction and label, ex. [0.008318834938108921, 'ham'])\n",
        "\n",
        "\n",
        "def predict_message(pred_text_arg):\n",
        "    numeric_sentiment_val = model.predict(np.array([pred_text_arg]))[0][0]\n",
        "    spam_condition = round(numeric_sentiment_val) >= 0.0\n",
        "    sms_class = 'spam' if spam_condition else 'ham'\n",
        "    temp_prediction = [numeric_sentiment_val, sms_class]\n",
        "    return temp_prediction\n",
        "\n",
        "\n",
        "pred_text = \"how are you doing today?\"\n",
        "\n",
        "prediction = predict_message(pred_text)\n",
        "print(prediction)"
      ],
      "execution_count": null,
      "outputs": []
    },
    {
      "cell_type": "code",
      "metadata": {
        "id": "Dxotov85SjsC"
      },
      "source": [
        "# Run this cell to test your function and model. Do not modify contents.\n",
        "\n",
        "\n",
        "def test_predictions():\n",
        "    test_messages = [\"how are you doing today\",\n",
        "                     \"sale today! to stop texts call 98912460324\",\n",
        "                     \"i dont want to go. can we try it a different day? available sat\",\n",
        "                     \"our new mobile video service is live. just install on your phone to start watching.\",\n",
        "                     \"you have won £1000 cash! call to claim your prize.\",\n",
        "                     \"i'll bring it tomorrow. don't forget the milk.\",\n",
        "                     \"wow, is your arm alright. that happened to me one time too\"\n",
        "                     ]\n",
        "\n",
        "    test_answers = [\"ham\", \"spam\", \"ham\", \"spam\", \"spam\", \"ham\", \"ham\"]\n",
        "    passed = True\n",
        "\n",
        "    for msg, ans in zip(test_messages, test_answers):\n",
        "        temp_prediction = predict_message(msg)\n",
        "        if temp_prediction[1] != ans:\n",
        "            passed = False\n",
        "\n",
        "    if passed:\n",
        "        print(\"You passed the challenge. Great job!\")\n",
        "    else:\n",
        "        print(\"You haven't passed yet. Keep trying.\")\n",
        "\n",
        "\n",
        "test_predictions()\n"
      ],
      "execution_count": null,
      "outputs": []
    }
  ]
}
