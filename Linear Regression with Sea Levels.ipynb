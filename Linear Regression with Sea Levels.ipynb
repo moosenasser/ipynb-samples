{
  "nbformat": 4,
  "nbformat_minor": 0,
  "metadata": {
    "colab": {
      "name": "fcc_cat_dog.ipynb",
      "provenance": [],
      "collapsed_sections": [],
      "include_colab_link": true
    },
    "kernelspec": {
      "name": "python3",
      "display_name": "Python 3"
    },
    "accelerator": "GPU"
  },
  "cells": [
    {
      "cell_type": "markdown",
      "metadata": {
        "id": "view-in-github",
        "colab_type": "text"
      },
      "source": [
        "<a href=\"https://colab.research.google.com/github/moosenasser/ipynb-samples/blob/main/Linear%20Regression%20with%20Sea%20Levels.ipynb\" target=\"_parent\"><img src=\"https://colab.research.google.com/assets/colab-badge.svg\" alt=\"Open In Colab\"/></a>"
      ]
    },
    {
      "cell_type": "markdown",
      "metadata": {
        "id": "XeCllzC77-P5"
      },
      "source": [
        "*Note: You are currently reading this using Google Colaboratory which is a cloud-hosted version of Jupyter Notebook. This is a document containng both text cells for documentation and runnable code cells. If you are unfamiliar with Jupyter Notebook, watch this 3-minute introduction before starting this challenge: https://www.youtube.com/watch?v=inN8seMm7UI*\n",
        "\n",
        "\n",
        "\n",
        "---\n",
        "\n",
        "\n",
        "\n",
        "The goal of this notebook is using a model to predict sea level based on a given year. Scikit-learn 0.24.2 is utilized to create a single-variable linear regression model."
      ]
    },
    {
      "cell_type": "code",
      "metadata": {
        "id": "la_Oz6oLlub6"
      },
      "source": [
        "from sklearn.linear_model import LinearRegression\n",
        "from sklearn.metrics import mean_absolute_error\n",
        "from sklearn.model_selection import train_test_split\n",
        "\n",
        "import matplotlib.pyplot as plt\n",
        "import pandas as pd"
      ],
      "execution_count": 1,
      "outputs": []
    },
    {
      "cell_type": "code",
      "metadata": {
        "id": "7YrU1jEWI46t"
      },
      "source": [
        "yr = 'Year'\n",
        "sea_lvl = 'CSIRO Adjusted Sea Level'\n",
        "sea_lvl_csv_path = '/content/sample_data/epa-sea-level.csv'"
      ],
      "execution_count": 2,
      "outputs": []
    },
    {
      "cell_type": "code",
      "metadata": {
        "id": "jaF8r6aOl48C"
      },
      "source": [
        "df = pd.read_csv(sea_lvl_csv_path)"
      ],
      "execution_count": 3,
      "outputs": []
    },
    {
      "cell_type": "code",
      "metadata": {
        "id": "1W7B7C5UT16T"
      },
      "source": [
        "\"\"\"Only 'Year' and 'CSIRO Adjusted Sea Level' are\n",
        "necessary columns for single-variable regression.\"\"\"\n",
        "mod_df = df[[yr, sea_lvl]]"
      ],
      "execution_count": 4,
      "outputs": []
    },
    {
      "cell_type": "code",
      "metadata": {
        "id": "xqIhul5kRcHK"
      },
      "source": [
        "x_train, x_valid, y_train, y_valid = train_test_split(\n",
        "    mod_df.Year.values, mod_df[sea_lvl].values, train_size=0.8, random_state=1)"
      ],
      "execution_count": 5,
      "outputs": []
    },
    {
      "cell_type": "code",
      "metadata": {
        "colab": {
          "base_uri": "https://localhost:8080/"
        },
        "id": "ery0n_DmBVhi",
        "outputId": "f45716de-6fcc-4d8b-d55f-cd75508965c2"
      },
      "source": [
        "model = LinearRegression()\n",
        "model.fit(x_train.reshape(-1, 1), y_train.reshape(-1, 1))"
      ],
      "execution_count": 6,
      "outputs": [
        {
          "output_type": "execute_result",
          "data": {
            "text/plain": [
              "LinearRegression(copy_X=True, fit_intercept=True, n_jobs=None, normalize=False)"
            ]
          },
          "metadata": {
            "tags": []
          },
          "execution_count": 6
        }
      ]
    },
    {
      "cell_type": "code",
      "metadata": {
        "colab": {
          "base_uri": "https://localhost:8080/"
        },
        "id": "udMEw6otS64H",
        "outputId": "c938792c-2127-4fea-ee1c-f68568eb3959"
      },
      "source": [
        "validation_preds = model.predict(x_valid.reshape(-1, 1))\n",
        "validation_mae = mean_absolute_error(validation_preds, y_valid) \n",
        "print(\"MAE for validation predictions: {:,.3f}\".format(validation_mae))"
      ],
      "execution_count": 7,
      "outputs": [
        {
          "output_type": "stream",
          "text": [
            "MAE for validation predictions: 0.339\n"
          ],
          "name": "stdout"
        }
      ]
    },
    {
      "cell_type": "code",
      "metadata": {
        "colab": {
          "base_uri": "https://localhost:8080/",
          "height": 283
        },
        "id": "Zl7i6Bb3yLee",
        "outputId": "5ad8f34f-0a40-4da6-c1be-5e6e70063074"
      },
      "source": [
        "plt.axes(aspect='equal')\n",
        "plt.scatter(y_valid, validation_preds)\n",
        "plt.xlabel('Actual Sea Level')\n",
        "plt.ylabel('Validation Predictions')\n",
        "\n",
        "limits = [0, 10]\n",
        "plt.xlim(limits)\n",
        "plt.ylim(limits)\n",
        "plt.plot(limits, limits);"
      ],
      "execution_count": 8,
      "outputs": [
        {
          "output_type": "display_data",
          "data": {
            "image/png": "[encoded data removed]",
            "text/plain": [
              "<Figure size 432x288 with 1 Axes>"
            ]
          },
          "metadata": {
            "tags": [],
            "needs_background": "light"
          }
        }
      ]
    }
  ]
}